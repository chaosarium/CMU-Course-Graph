{
 "cells": [
  {
   "cell_type": "code",
   "execution_count": 27,
   "metadata": {},
   "outputs": [],
   "source": [
    "from random import randint as ri\n",
    "from pprint import pprint as pp\n",
    "import random"
   ]
  },
  {
   "cell_type": "code",
   "execution_count": 28,
   "metadata": {},
   "outputs": [
    {
     "name": "stdout",
     "output_type": "stream",
     "text": [
      "['66977',\n",
      " '48621',\n",
      " '14401',\n",
      " '24669',\n",
      " '2177',\n",
      " '2674',\n",
      " '87167',\n",
      " '36055',\n",
      " '77802',\n",
      " '64726',\n",
      " '36784',\n",
      " '23253',\n",
      " '59108',\n",
      " '14648',\n",
      " '29809',\n",
      " '18935',\n",
      " '79233',\n",
      " '64527',\n",
      " '29823',\n",
      " '60504']\n"
     ]
    }
   ],
   "source": [
    "course_list = [str(ri(1, 99999)) for i in range(20)]\n",
    "pp(course_list)"
   ]
  },
  {
   "cell_type": "code",
   "execution_count": 25,
   "metadata": {},
   "outputs": [
    {
     "ename": "TypeError",
     "evalue": "unhashable type: 'list'",
     "output_type": "error",
     "traceback": [
      "\u001b[0;31m---------------------------------------------------------------------------\u001b[0m",
      "\u001b[0;31mTypeError\u001b[0m                                 Traceback (most recent call last)",
      "\u001b[1;32m/Users/chaosarium/Documents/Dev/TartanHacks2023/CMu-Course-Graph/dataproc/sampledatagen.ipynb Cell 3\u001b[0m in \u001b[0;36m<cell line: 2>\u001b[0;34m()\u001b[0m\n\u001b[1;32m      <a href='vscode-notebook-cell:/Users/chaosarium/Documents/Dev/TartanHacks2023/CMu-Course-Graph/dataproc/sampledatagen.ipynb#W2sZmlsZQ%3D%3D?line=8'>9</a>\u001b[0m     cross_listed \u001b[39m=\u001b[39m [];\n\u001b[1;32m     <a href='vscode-notebook-cell:/Users/chaosarium/Documents/Dev/TartanHacks2023/CMu-Course-Graph/dataproc/sampledatagen.ipynb#W2sZmlsZQ%3D%3D?line=9'>10</a>\u001b[0m \u001b[39melse\u001b[39;00m:\n\u001b[0;32m---> <a href='vscode-notebook-cell:/Users/chaosarium/Documents/Dev/TartanHacks2023/CMu-Course-Graph/dataproc/sampledatagen.ipynb#W2sZmlsZQ%3D%3D?line=10'>11</a>\u001b[0m     \u001b[39mif\u001b[39;00m \u001b[39mnot\u001b[39;00m cross_listed \u001b[39min\u001b[39;49;00m dependency:\n\u001b[1;32m     <a href='vscode-notebook-cell:/Users/chaosarium/Documents/Dev/TartanHacks2023/CMu-Course-Graph/dataproc/sampledatagen.ipynb#W2sZmlsZQ%3D%3D?line=11'>12</a>\u001b[0m         dependency[cross_listed] \u001b[39m=\u001b[39m {}\n\u001b[1;32m     <a href='vscode-notebook-cell:/Users/chaosarium/Documents/Dev/TartanHacks2023/CMu-Course-Graph/dataproc/sampledatagen.ipynb#W2sZmlsZQ%3D%3D?line=12'>13</a>\u001b[0m         dependency[cross_listed][\u001b[39m\"\u001b[39m\u001b[39mcross_listed\u001b[39m\u001b[39m\"\u001b[39m] \u001b[39m=\u001b[39m {course}\n",
      "\u001b[0;31mTypeError\u001b[0m: unhashable type: 'list'"
     ]
    }
   ],
   "source": [
    "dependency = {}\n",
    "for course in course_list:\n",
    "    if not course in dependency:\n",
    "        dependency[course] = {}\n",
    "        \n",
    "    if random.random() > 0.9: \n",
    "        cross_listed_as = random.choice(course_list)\n",
    "        if cross_listed_as == course:\n",
    "            cross_listed = [];\n",
    "        else:\n",
    "            if not cross_listed in dependency:\n",
    "                dependency[cross_listed] = {}\n",
    "                dependency[cross_listed][\"cross_listed\"] = {course}\n",
    "    else: \n",
    "        cross_listed = []\n",
    "    \n",
    "    \n",
    "    dependency[course][\"cross_listed\"] = cross_listed\n",
    "    # prereq\n",
    "    # coreq\n",
    "    # antireq"
   ]
  },
  {
   "cell_type": "code",
   "execution_count": 26,
   "metadata": {},
   "outputs": [
    {
     "data": {
      "text/plain": [
       "{'44252': {'cross_listed': []}, '84181': {}}"
      ]
     },
     "execution_count": 26,
     "metadata": {},
     "output_type": "execute_result"
    }
   ],
   "source": [
    "dependency"
   ]
  },
  {
   "cell_type": "code",
   "execution_count": null,
   "metadata": {},
   "outputs": [],
   "source": []
  }
 ],
 "metadata": {
  "kernelspec": {
   "display_name": "base",
   "language": "python",
   "name": "python3"
  },
  "language_info": {
   "codemirror_mode": {
    "name": "ipython",
    "version": 3
   },
   "file_extension": ".py",
   "mimetype": "text/x-python",
   "name": "python",
   "nbconvert_exporter": "python",
   "pygments_lexer": "ipython3",
   "version": "3.9.13"
  },
  "orig_nbformat": 4,
  "vscode": {
   "interpreter": {
    "hash": "0228fee4d25496bb422a7e0c363e636da60e8258e4b70dda8036e2defd0af2d7"
   }
  }
 },
 "nbformat": 4,
 "nbformat_minor": 2
}
